{
  "cells": [
    {
      "cell_type": "markdown",
      "source": [
        "# **Numpy Basics Cheatsheet by Data Growth Community**\n",
        "![](https://numpy.org/doc/stable/_static/numpylogo.svg)\n",
        "\n",
        "**NumPy** es una biblioteca fundamental para la **computación científica en Python**. Proporciona arreglos multidimensionales, rutinas para operaciones rápidas en estos arreglos y objetos derivados como matrices.\n",
        "\n",
        "El objeto central en NumPy es el **ndarray**, que encapsula arreglos n-dimensionales de datos homogéneos. A diferencia de las listas de Python, los arreglos NumPy tienen un tamaño fijo al crearse y requieren elementos del mismo tipo de datos.\n",
        "\\\n",
        "\n",
        "En resumen, **NumPy** es esencial para la eficiencia en operaciones matemáticas y científicas en Python."
      ],
      "metadata": {
        "id": "EBjQsfhAEcaY"
      }
    },
    {
      "cell_type": "markdown",
      "source": [
        "### Importar NumPy"
      ],
      "metadata": {
        "id": "0Mkho4MaLIM1"
      }
    },
    {
      "cell_type": "code",
      "source": [
        "import numpy as np"
      ],
      "metadata": {
        "id": "M2q9ZFpopYjS"
      },
      "execution_count": null,
      "outputs": []
    },
    {
      "cell_type": "markdown",
      "source": [
        "## 1. Creación de arreglos"
      ],
      "metadata": {
        "id": "3LPU9kGcLQ9Y"
      }
    },
    {
      "cell_type": "code",
      "source": [
        "# Desde una lista\n",
        "arr_1d = np.array([1, 2, 3, 4, 5])\n",
        "print(arr_1d)"
      ],
      "metadata": {
        "id": "4Bmdtf0gq_hb",
        "outputId": "07a3d1c8-3f15-4cf0-e52e-d0895ee0ae56",
        "colab": {
          "base_uri": "https://localhost:8080/"
        }
      },
      "execution_count": null,
      "outputs": [
        {
          "output_type": "stream",
          "name": "stdout",
          "text": [
            "[1 2 3 4 5]\n"
          ]
        }
      ]
    },
    {
      "cell_type": "code",
      "source": [
        "# Desde una lista de listas\n",
        "arr_2d = np.array([[1, 2, 3],\n",
        "                   [4, 5, 6],\n",
        "                   [7, 8, 9]])\n",
        "print(arr_2d)"
      ],
      "metadata": {
        "colab": {
          "base_uri": "https://localhost:8080/"
        },
        "id": "IygN16gFLlwS",
        "outputId": "25c6e34c-fc8d-45ae-e48c-12426fc91c1b"
      },
      "execution_count": null,
      "outputs": [
        {
          "output_type": "stream",
          "name": "stdout",
          "text": [
            "[[1 2 3]\n",
            " [4 5 6]\n",
            " [7 8 9]]\n"
          ]
        }
      ]
    },
    {
      "cell_type": "code",
      "source": [
        "# Arreglo 3D\n",
        "arr_3d = np.array([[[1, 2], [3, 4]],\n",
        "                   [[5, 6], [7, 8]]])\n",
        "print(arr_3d)\n"
      ],
      "metadata": {
        "colab": {
          "base_uri": "https://localhost:8080/"
        },
        "id": "0bedh-u2Lrnq",
        "outputId": "16e613eb-89c5-497b-d9bb-ba506036a181"
      },
      "execution_count": null,
      "outputs": [
        {
          "output_type": "stream",
          "name": "stdout",
          "text": [
            "[[[1 2]\n",
            "  [3 4]]\n",
            "\n",
            " [[5 6]\n",
            "  [7 8]]]\n"
          ]
        }
      ]
    },
    {
      "cell_type": "markdown",
      "source": [
        "### 1.1 Usando funciones auxiliares"
      ],
      "metadata": {
        "id": "znDibAJFMOK-"
      }
    },
    {
      "cell_type": "code",
      "source": [
        "# Crea un arreglo de ceros\n",
        "arr_zeros = np.zeros(5, dtype=int)\n",
        "print(arr_zeros)"
      ],
      "metadata": {
        "colab": {
          "base_uri": "https://localhost:8080/"
        },
        "id": "VjFpWLVjLjME",
        "outputId": "16b9a7ae-931c-4b0d-8612-04c0c288375f"
      },
      "execution_count": null,
      "outputs": [
        {
          "output_type": "stream",
          "name": "stdout",
          "text": [
            "[0 0 0 0 0]\n"
          ]
        }
      ]
    },
    {
      "cell_type": "code",
      "source": [
        "# Crea un arreglo de unos\n",
        "arr_ones = np.ones(3)\n",
        "print(arr_ones)"
      ],
      "metadata": {
        "colab": {
          "base_uri": "https://localhost:8080/"
        },
        "id": "ATeMDEo3Mvx3",
        "outputId": "a02c7b67-184d-463e-b0fb-0c203f410f48"
      },
      "execution_count": null,
      "outputs": [
        {
          "output_type": "stream",
          "name": "stdout",
          "text": [
            "[1. 1. 1.]\n"
          ]
        }
      ]
    },
    {
      "cell_type": "code",
      "source": [
        "# Crea un arreglo de rango\n",
        "arr_Range = np.arange(10)\n",
        "print(arr_Range)"
      ],
      "metadata": {
        "colab": {
          "base_uri": "https://localhost:8080/"
        },
        "id": "6b15EDNYM3Fg",
        "outputId": "f33ff5ca-af1a-45e2-aa81-5a17d4e7e59e"
      },
      "execution_count": null,
      "outputs": [
        {
          "output_type": "stream",
          "name": "stdout",
          "text": [
            "[0 1 2 3 4 5 6 7 8 9]\n"
          ]
        }
      ]
    },
    {
      "cell_type": "code",
      "source": [
        "# Crea una matriz de ceros\n",
        "arr_zeros_2d = np.zeros((2, 3), dtype=int)\n",
        "print(arr_zeros_2d)"
      ],
      "metadata": {
        "colab": {
          "base_uri": "https://localhost:8080/"
        },
        "id": "WiPZHDSzMbWD",
        "outputId": "3b0a7c26-418c-4521-b2bd-253a3a1729e6"
      },
      "execution_count": null,
      "outputs": [
        {
          "output_type": "stream",
          "name": "stdout",
          "text": [
            "[[0 0 0]\n",
            " [0 0 0]]\n"
          ]
        }
      ]
    },
    {
      "cell_type": "code",
      "source": [
        "# Crea una matriz de unos\n",
        "arr_ones_2d = np.ones((2, 2))\n",
        "print(arr_ones_2d)"
      ],
      "metadata": {
        "colab": {
          "base_uri": "https://localhost:8080/"
        },
        "id": "nByj-RBpNCo3",
        "outputId": "cd265222-edf4-499d-b985-c5030feac0e7"
      },
      "execution_count": null,
      "outputs": [
        {
          "output_type": "stream",
          "name": "stdout",
          "text": [
            "[[1. 1.]\n",
            " [1. 1.]]\n"
          ]
        }
      ]
    },
    {
      "cell_type": "code",
      "source": [
        "# Crear un arreglo con valores espaciados uniformemente\n",
        "arr_linspace = np.linspace(1, 10, 5)  # [1. 3. 5. 7. 9.]\n",
        "print(arr_linspace)"
      ],
      "metadata": {
        "colab": {
          "base_uri": "https://localhost:8080/"
        },
        "id": "n5YWQ5_RNR3d",
        "outputId": "e738483e-3db6-47b2-eca0-aa8f98d443cd"
      },
      "execution_count": null,
      "outputs": [
        {
          "output_type": "stream",
          "name": "stdout",
          "text": [
            "[ 1.    3.25  5.5   7.75 10.  ]\n"
          ]
        }
      ]
    },
    {
      "cell_type": "code",
      "source": [
        "# Crear un arreglo con valores espaciados logarítmicamente\n",
        "arr_logspace = np.logspace(1, 3, 4)\n",
        "print(arr_logspace)"
      ],
      "metadata": {
        "colab": {
          "base_uri": "https://localhost:8080/"
        },
        "id": "RWpR2iteNVZz",
        "outputId": "aeb92f74-1197-43bf-b1b8-deb229957be9"
      },
      "execution_count": null,
      "outputs": [
        {
          "output_type": "stream",
          "name": "stdout",
          "text": [
            "[  10.           46.41588834  215.443469   1000.        ]\n"
          ]
        }
      ]
    },
    {
      "cell_type": "markdown",
      "source": [
        "## 2. Manipulación de arreglos"
      ],
      "metadata": {
        "id": "HE1O7d5hrS2l"
      }
    },
    {
      "cell_type": "markdown",
      "source": [
        "### Acceder y modificar elementos"
      ],
      "metadata": {
        "id": "hIpkqWz5O_j7"
      }
    },
    {
      "cell_type": "code",
      "source": [
        "# Acceder a elementos en un arreglo 1D\n",
        "arr = np.array([1, 2, 3, 4, 5])\n",
        "print(arr[0])\n",
        "print(arr[-1])"
      ],
      "metadata": {
        "id": "fRhpgGOapnNP",
        "outputId": "45c2f51b-a1cc-44a4-e21f-e024b2ea91cd",
        "colab": {
          "base_uri": "https://localhost:8080/"
        }
      },
      "execution_count": null,
      "outputs": [
        {
          "output_type": "stream",
          "name": "stdout",
          "text": [
            "1\n",
            "5\n"
          ]
        }
      ]
    },
    {
      "cell_type": "code",
      "source": [
        "# Acceder a elementos en un arreglo 2D\n",
        "arr_2d = np.array([[1, 2, 3],\n",
        "                   [4, 5, 6],\n",
        "                   [7, 8, 9]])\n",
        "print(arr_2d[1, 2])"
      ],
      "metadata": {
        "id": "-gJTlYulpbFm",
        "outputId": "6c72fd3d-6bfe-4a8a-ec70-1aa6eb142e41",
        "colab": {
          "base_uri": "https://localhost:8080/"
        }
      },
      "execution_count": null,
      "outputs": [
        {
          "output_type": "stream",
          "name": "stdout",
          "text": [
            "6\n"
          ]
        }
      ]
    },
    {
      "cell_type": "code",
      "source": [
        "# Modificar elementos\n",
        "arr[0] = 10\n",
        "arr_2d[1, 1] = 0\n",
        "print(arr)\n",
        "print(arr_2d)"
      ],
      "metadata": {
        "id": "jQ_WqNA-uhDo",
        "outputId": "adbdea12-ea47-4d58-d969-7fa140e7a1f1",
        "colab": {
          "base_uri": "https://localhost:8080/"
        }
      },
      "execution_count": null,
      "outputs": [
        {
          "output_type": "stream",
          "name": "stdout",
          "text": [
            "[10  2  3  4  5]\n",
            "[[1 2 3]\n",
            " [4 0 6]\n",
            " [7 8 9]]\n"
          ]
        }
      ]
    },
    {
      "cell_type": "markdown",
      "source": [
        "### Operaciones aritméticas"
      ],
      "metadata": {
        "id": "N3uAsYNnrYwl"
      }
    },
    {
      "cell_type": "code",
      "source": [
        "arr1 = np.array([1, 2, 3])\n",
        "arr2 = np.array([4, 5, 6])"
      ],
      "metadata": {
        "id": "-WZ2dfdGraen"
      },
      "execution_count": null,
      "outputs": []
    },
    {
      "cell_type": "code",
      "source": [
        "# Suma de arreglos\n",
        "arr_sum = arr1 + arr2\n",
        "print(arr_sum)"
      ],
      "metadata": {
        "colab": {
          "base_uri": "https://localhost:8080/"
        },
        "id": "ZGWRUl67PTDQ",
        "outputId": "2345b15d-b2c7-41df-bd32-76935e9b4400"
      },
      "execution_count": null,
      "outputs": [
        {
          "output_type": "stream",
          "name": "stdout",
          "text": [
            "[5 7 9]\n"
          ]
        }
      ]
    },
    {
      "cell_type": "code",
      "source": [
        "# Multiplicación de arreglos\n",
        "arr_mul = arr1 * arr2\n",
        "print(arr_mul)"
      ],
      "metadata": {
        "colab": {
          "base_uri": "https://localhost:8080/"
        },
        "id": "Bwc1q59OPVlG",
        "outputId": "b5c88ae1-46f4-408d-8d33-dd3b14380088"
      },
      "execution_count": null,
      "outputs": [
        {
          "output_type": "stream",
          "name": "stdout",
          "text": [
            "[ 4 10 18]\n"
          ]
        }
      ]
    },
    {
      "cell_type": "markdown",
      "source": [
        "### Funciones universales (ufuncs)"
      ],
      "metadata": {
        "id": "PL130kU1scNE"
      }
    },
    {
      "cell_type": "code",
      "source": [
        "arr = np.array([1, 2, 3, 4])"
      ],
      "metadata": {
        "id": "ds4sGAP4sZka",
        "outputId": "32826588-15b9-4427-dd96-07dbc4dc0dfd",
        "colab": {
          "base_uri": "https://localhost:8080/"
        }
      },
      "execution_count": null,
      "outputs": [
        {
          "output_type": "stream",
          "name": "stdout",
          "text": [
            "[1.         1.41421356 1.73205081 2.        ]\n",
            "[ 2.71828183  7.3890561  20.08553692 54.59815003]\n"
          ]
        }
      ]
    },
    {
      "cell_type": "code",
      "source": [
        "# Calcular la raíz cuadrada de cada elemento\n",
        "arr_sqrt = np.sqrt(arr)\n",
        "print(arr_sqrt)"
      ],
      "metadata": {
        "colab": {
          "base_uri": "https://localhost:8080/"
        },
        "id": "zyRiz9TsPcp-",
        "outputId": "81827951-cb66-41f2-db6f-1b73fcf4db3e"
      },
      "execution_count": null,
      "outputs": [
        {
          "output_type": "stream",
          "name": "stdout",
          "text": [
            "[1.         1.41421356 1.73205081 2.        ]\n"
          ]
        }
      ]
    },
    {
      "cell_type": "code",
      "source": [
        "# Aplicar la función exponencial a cada elemento\n",
        "arr_exp = np.exp(arr)\n",
        "print(arr_exp)"
      ],
      "metadata": {
        "colab": {
          "base_uri": "https://localhost:8080/"
        },
        "id": "JpHhf9g7PeuA",
        "outputId": "ecfec5e5-f65a-4607-d449-3a70342502d8"
      },
      "execution_count": null,
      "outputs": [
        {
          "output_type": "stream",
          "name": "stdout",
          "text": [
            "[ 2.71828183  7.3890561  20.08553692 54.59815003]\n"
          ]
        }
      ]
    },
    {
      "cell_type": "markdown",
      "source": [
        "### Funciones matemáticas"
      ],
      "metadata": {
        "id": "XtxrV9iaPqCc"
      }
    },
    {
      "cell_type": "code",
      "source": [
        "arr = np.array([1, 2, 3, 4])"
      ],
      "metadata": {
        "id": "cDtSddTfPt0J"
      },
      "execution_count": null,
      "outputs": []
    },
    {
      "cell_type": "code",
      "source": [
        "# Suma de todos los elementos\n",
        "arr_sum = np.sum(arr)\n",
        "print(arr_sum)"
      ],
      "metadata": {
        "colab": {
          "base_uri": "https://localhost:8080/"
        },
        "id": "IK2gCaNIPyM-",
        "outputId": "e1dd991a-b25b-493a-88eb-a1dfe4e496da"
      },
      "execution_count": null,
      "outputs": [
        {
          "output_type": "stream",
          "name": "stdout",
          "text": [
            "10\n"
          ]
        }
      ]
    },
    {
      "cell_type": "code",
      "source": [
        "# Promedio de todos los elementos\n",
        "arr_mean = np.mean(arr)\n",
        "print(arr_mean)"
      ],
      "metadata": {
        "colab": {
          "base_uri": "https://localhost:8080/"
        },
        "id": "yQ4EKtIvP06t",
        "outputId": "7acb1982-469b-4c0c-e7a1-77786054551e"
      },
      "execution_count": null,
      "outputs": [
        {
          "output_type": "stream",
          "name": "stdout",
          "text": [
            "2.5\n"
          ]
        }
      ]
    },
    {
      "cell_type": "markdown",
      "source": [
        "## 3. Operaciones con formas y dimensiones"
      ],
      "metadata": {
        "id": "9OuoY8FR0hvY"
      }
    },
    {
      "cell_type": "markdown",
      "source": [
        "### Cambiar la forma de un arreglo"
      ],
      "metadata": {
        "id": "zo1g2giDQESN"
      }
    },
    {
      "cell_type": "code",
      "source": [
        "arr = np.array([1, 2, 3, 4, 5, 6])"
      ],
      "metadata": {
        "id": "nA-0f9RG0fnt"
      },
      "execution_count": null,
      "outputs": []
    },
    {
      "cell_type": "code",
      "source": [
        "# Cambiar la forma a una matriz 2x3\n",
        "arr_reshaped = arr.reshape(2, 3)\n",
        "print(arr_reshaped)"
      ],
      "metadata": {
        "colab": {
          "base_uri": "https://localhost:8080/"
        },
        "id": "mV9z1-O2QNUf",
        "outputId": "3f040664-465f-4d65-c997-0681dde42156"
      },
      "execution_count": null,
      "outputs": [
        {
          "output_type": "stream",
          "name": "stdout",
          "text": [
            "[[1 2 3]\n",
            " [4 5 6]]\n"
          ]
        }
      ]
    },
    {
      "cell_type": "code",
      "source": [
        "# Cambiar la forma a un arreglo 1D\n",
        "arr_flattened = arr.ravel()\n",
        "print(arr_flattened)"
      ],
      "metadata": {
        "colab": {
          "base_uri": "https://localhost:8080/"
        },
        "id": "QQJssgXUQPmb",
        "outputId": "54805d35-3599-42d3-eeee-22c78b5ea65e"
      },
      "execution_count": null,
      "outputs": [
        {
          "output_type": "stream",
          "name": "stdout",
          "text": [
            "[1 2 3 4 5 6]\n"
          ]
        }
      ]
    },
    {
      "cell_type": "markdown",
      "source": [
        "### Transponer arreglos"
      ],
      "metadata": {
        "id": "XK3Rsb4M1UJB"
      }
    },
    {
      "cell_type": "code",
      "source": [
        "arr_2d = np.array([[1, 2, 3],\n",
        "                   [4, 5, 6]])"
      ],
      "metadata": {
        "id": "h7BmnB8o1ZhU"
      },
      "execution_count": null,
      "outputs": []
    },
    {
      "cell_type": "code",
      "source": [
        "# Transponer la matriz\n",
        "arr_transposed = arr_2d.T\n",
        "print(arr_transposed)"
      ],
      "metadata": {
        "colab": {
          "base_uri": "https://localhost:8080/"
        },
        "id": "3cVJ7sC2QZZa",
        "outputId": "697ec0a4-fa44-4b59-828b-6d4a86c3d844"
      },
      "execution_count": null,
      "outputs": [
        {
          "output_type": "stream",
          "name": "stdout",
          "text": [
            "[[1 4]\n",
            " [2 5]\n",
            " [3 6]]\n"
          ]
        }
      ]
    },
    {
      "cell_type": "markdown",
      "source": [
        "### Operaciones de broadcasting"
      ],
      "metadata": {
        "id": "bZfbHfdeQqCT"
      }
    },
    {
      "cell_type": "code",
      "source": [
        "# Definimos una matriz 2D\n",
        "matrix = np.array([[1, 2, 3],\n",
        "                   [4, 5, 6],\n",
        "                   [7, 8, 9]])"
      ],
      "metadata": {
        "id": "TjqcREteQtfW"
      },
      "execution_count": null,
      "outputs": []
    },
    {
      "cell_type": "code",
      "source": [
        "# Definimos un vector 1D para escalar las columnas\n",
        "scaling_vector = np.array([1, 0.5, 0.1])\n",
        "\n",
        "# Broadcasting de un vector 1D a cada columna de la matriz\n",
        "scaled_matrix = matrix * scaling_vector\n",
        "\n",
        "print(scaled_matrix)"
      ],
      "metadata": {
        "colab": {
          "base_uri": "https://localhost:8080/"
        },
        "id": "vSWCc8pZQvkv",
        "outputId": "63203d7f-fa97-4c77-f27f-856f0c459713"
      },
      "execution_count": null,
      "outputs": [
        {
          "output_type": "stream",
          "name": "stdout",
          "text": [
            "[[1.  1.  0.3]\n",
            " [4.  2.5 0.6]\n",
            " [7.  4.  0.9]]\n"
          ]
        }
      ]
    },
    {
      "cell_type": "markdown",
      "source": [
        "## Indexación y selección de datos"
      ],
      "metadata": {
        "id": "k61wSNUf2MLQ"
      }
    },
    {
      "cell_type": "markdown",
      "source": [
        "### Indexación básica"
      ],
      "metadata": {
        "id": "zouL3cCvSFgQ"
      }
    },
    {
      "cell_type": "code",
      "source": [
        "arr_2d = np.array([[1, 2, 3],\n",
        "                   [4, 5, 6],\n",
        "                   [7, 8, 9]])"
      ],
      "metadata": {
        "id": "9yOh_Jnx2Lp1"
      },
      "execution_count": null,
      "outputs": []
    },
    {
      "cell_type": "code",
      "source": [
        "# Acceder a una fila específica\n",
        "print(arr_2d[1])"
      ],
      "metadata": {
        "colab": {
          "base_uri": "https://localhost:8080/"
        },
        "id": "Fn5nLR5iSL8F",
        "outputId": "3809410a-6b8b-4c3c-db80-b0a3c497682a"
      },
      "execution_count": null,
      "outputs": [
        {
          "output_type": "stream",
          "name": "stdout",
          "text": [
            "[4 5 6]\n"
          ]
        }
      ]
    },
    {
      "cell_type": "code",
      "source": [
        "# Acceder a una columna específica\n",
        "print(arr_2d[:, 2])"
      ],
      "metadata": {
        "colab": {
          "base_uri": "https://localhost:8080/"
        },
        "id": "JOV_MXrRTQYy",
        "outputId": "53346e3d-f1a7-4d8e-89f8-f90a87cbe582"
      },
      "execution_count": null,
      "outputs": [
        {
          "output_type": "stream",
          "name": "stdout",
          "text": [
            "[3 6 9]\n"
          ]
        }
      ]
    },
    {
      "cell_type": "markdown",
      "source": [
        "### Indexación avanzada"
      ],
      "metadata": {
        "id": "Mu8pLF3D3BEK"
      }
    },
    {
      "cell_type": "code",
      "source": [
        "arr_2d = np.array([[1, 2, 3],\n",
        "                   [4, 5, 6],\n",
        "                   [7, 8, 9]])"
      ],
      "metadata": {
        "id": "sEvEpvJ_2IoL"
      },
      "execution_count": null,
      "outputs": []
    },
    {
      "cell_type": "code",
      "source": [
        "# Acceder a elementos específicos\n",
        "print(arr_2d[[0, 1], [0, 2]])"
      ],
      "metadata": {
        "colab": {
          "base_uri": "https://localhost:8080/"
        },
        "id": "8Q80tmaOTgt7",
        "outputId": "ccf5dda4-26b5-4d56-8d36-f1b9f9fcfcca"
      },
      "execution_count": null,
      "outputs": [
        {
          "output_type": "stream",
          "name": "stdout",
          "text": [
            "[1 6]\n"
          ]
        }
      ]
    },
    {
      "cell_type": "code",
      "source": [
        "# Acceder a filas y columnas específicas\n",
        "print(arr_2d[[0, 2], :])"
      ],
      "metadata": {
        "colab": {
          "base_uri": "https://localhost:8080/"
        },
        "id": "P97NQRS2Tiwz",
        "outputId": "813c8309-fea3-41b6-bb5a-45df56e06ff9"
      },
      "execution_count": null,
      "outputs": [
        {
          "output_type": "stream",
          "name": "stdout",
          "text": [
            "[[1 2 3]\n",
            " [7 8 9]]\n"
          ]
        }
      ]
    },
    {
      "cell_type": "code",
      "source": [
        "# Acceder a una submatriz\n",
        "submatriz = arr_2d[0:2, 0:2]\n",
        "print(submatriz)"
      ],
      "metadata": {
        "id": "7yeyc4K64jla",
        "outputId": "4f98c75c-13c7-41d0-b91f-f0b9414733c9",
        "colab": {
          "base_uri": "https://localhost:8080/"
        }
      },
      "execution_count": null,
      "outputs": [
        {
          "output_type": "stream",
          "name": "stdout",
          "text": [
            "[[1 2]\n",
            " [4 5]]\n"
          ]
        }
      ]
    },
    {
      "cell_type": "markdown",
      "source": [
        "### Indexación booleana"
      ],
      "metadata": {
        "id": "12BFzEHU6ENN"
      }
    },
    {
      "cell_type": "code",
      "source": [
        "arr = np.array([1, 2, 3, 4, 5, 6])\n",
        "\n",
        "# Filtrar elementos que cumplen una condición\n",
        "condition = arr > 3\n",
        "print(arr[condition])"
      ],
      "metadata": {
        "id": "E6uC0b086AVN",
        "outputId": "1472fd74-d774-49c3-f58f-fa26212cba8b",
        "colab": {
          "base_uri": "https://localhost:8080/"
        }
      },
      "execution_count": null,
      "outputs": [
        {
          "output_type": "stream",
          "name": "stdout",
          "text": [
            "[4 5 6]\n"
          ]
        }
      ]
    },
    {
      "cell_type": "markdown",
      "source": [
        "### Fancy Index"
      ],
      "metadata": {
        "id": "Wk5AKmMt6SlM"
      }
    },
    {
      "cell_type": "code",
      "source": [
        "arr_2d = np.array([[1, 2, 3], [4, 5, 6], [7, 8, 9]])\n",
        "indices = [0, 2]\n",
        "\n",
        "# Acceder a filas específicas\n",
        "print(arr_2d[indices])"
      ],
      "metadata": {
        "id": "WNe-cuoo6VSK",
        "outputId": "5b5e4381-405e-46fa-d053-c762e8a4d8fc",
        "colab": {
          "base_uri": "https://localhost:8080/"
        }
      },
      "execution_count": null,
      "outputs": [
        {
          "output_type": "stream",
          "name": "stdout",
          "text": [
            "[[1 2 3]\n",
            " [7 8 9]]\n"
          ]
        }
      ]
    },
    {
      "cell_type": "markdown",
      "source": [
        "## Álgebra lineal"
      ],
      "metadata": {
        "id": "GpqPrAQk7V-1"
      }
    },
    {
      "cell_type": "markdown",
      "source": [
        "### Operaciones algebraicas básicas"
      ],
      "metadata": {
        "id": "L0DS7GSq7roL"
      }
    },
    {
      "cell_type": "code",
      "source": [
        "arr1 = np.array([1, 2, 3])\n",
        "arr2 = np.array([4, 5, 6])"
      ],
      "metadata": {
        "id": "ko6_OFiA7zFv"
      },
      "execution_count": null,
      "outputs": []
    },
    {
      "cell_type": "code",
      "source": [
        "# Producto escalar (dot product)\n",
        "scalar_prod = np.dot(arr1, arr2)\n",
        "print(scalar_prod)"
      ],
      "metadata": {
        "colab": {
          "base_uri": "https://localhost:8080/"
        },
        "id": "xjOkH0orUcjJ",
        "outputId": "9cf2391f-f4f2-4a60-e8d9-70d9945101b4"
      },
      "execution_count": null,
      "outputs": [
        {
          "output_type": "stream",
          "name": "stdout",
          "text": [
            "32\n"
          ]
        }
      ]
    },
    {
      "cell_type": "code",
      "source": [
        "# Producto vectorial (cross product)\n",
        "vector_prod = np.cross(arr1, arr2)\n",
        "print(vector_prod)"
      ],
      "metadata": {
        "colab": {
          "base_uri": "https://localhost:8080/"
        },
        "id": "vFHTyy_JUerf",
        "outputId": "de3c242a-3a40-4840-a0f3-54868b691099"
      },
      "execution_count": null,
      "outputs": [
        {
          "output_type": "stream",
          "name": "stdout",
          "text": [
            "[-3  6 -3]\n"
          ]
        }
      ]
    },
    {
      "cell_type": "markdown",
      "source": [
        "### Producto de matrices"
      ],
      "metadata": {
        "id": "411Jfc5v8USS"
      }
    },
    {
      "cell_type": "code",
      "source": [
        "mat1 = np.array([[1, 2], [3, 4]])\n",
        "mat2 = np.array([[5, 6], [7, 8]])\n",
        "\n",
        "# Multiplicación de matrices\n",
        "mat_prod = np.matmul(mat1, mat2)\n",
        "print(mat_prod)"
      ],
      "metadata": {
        "id": "wZyhoJzP8XUi",
        "outputId": "e0888c2b-6619-4766-a5e1-9a20bc052e28",
        "colab": {
          "base_uri": "https://localhost:8080/"
        }
      },
      "execution_count": null,
      "outputs": [
        {
          "output_type": "stream",
          "name": "stdout",
          "text": [
            "[[19 22]\n",
            " [43 50]]\n"
          ]
        }
      ]
    },
    {
      "cell_type": "markdown",
      "source": [
        "### Cálculo de valores y vectores propios\n"
      ],
      "metadata": {
        "id": "1voDg-3T8_bg"
      }
    },
    {
      "cell_type": "code",
      "source": [
        "mat = np.array([[1, 2], [3, 4]])"
      ],
      "metadata": {
        "id": "hE3Fd7V--dxm"
      },
      "execution_count": null,
      "outputs": []
    },
    {
      "cell_type": "code",
      "source": [
        "# Valores y vectores propios\n",
        "eigenvalues, eigenvectors = np.linalg.eig(mat)\n",
        "print(eigenvalues)"
      ],
      "metadata": {
        "colab": {
          "base_uri": "https://localhost:8080/"
        },
        "id": "rSZWnE4IVFqf",
        "outputId": "4dbabd2c-3a16-4f4f-afde-e161d99c3945"
      },
      "execution_count": null,
      "outputs": [
        {
          "output_type": "stream",
          "name": "stdout",
          "text": [
            "[-0.37228132  5.37228132]\n"
          ]
        }
      ]
    },
    {
      "cell_type": "code",
      "source": [
        "print(eigenvectors)"
      ],
      "metadata": {
        "colab": {
          "base_uri": "https://localhost:8080/"
        },
        "id": "64XTQ2AWVCcz",
        "outputId": "aef4f459-9f9d-4b2f-e7d2-eab577d2b91d"
      },
      "execution_count": null,
      "outputs": [
        {
          "output_type": "stream",
          "name": "stdout",
          "text": [
            "[[-0.82456484 -0.41597356]\n",
            " [ 0.56576746 -0.90937671]]\n"
          ]
        }
      ]
    },
    {
      "cell_type": "markdown",
      "source": [
        "## Entrada/Salida y manipulación de archivos"
      ],
      "metadata": {
        "id": "XCLhroinVRt_"
      }
    },
    {
      "cell_type": "markdown",
      "source": [
        "### Lectura y escritura de archivos"
      ],
      "metadata": {
        "id": "W7D6v51FVTbR"
      }
    },
    {
      "cell_type": "code",
      "source": [
        "# Guardar un arreglo en un archivo binario\n",
        "arr = np.array([[1, 2, 3], [4, 5, 6]])\n",
        "np.save('datos.npy', arr)\n",
        "\n",
        "# Cargar un arreglo desde un archivo binario\n",
        "arr_loaded = np.load('datos.npy')\n",
        "print(arr_loaded)"
      ],
      "metadata": {
        "id": "E00zuJiCCgLL",
        "colab": {
          "base_uri": "https://localhost:8080/"
        },
        "outputId": "a879691c-fac5-4e0b-a6b3-45b42908f333"
      },
      "execution_count": null,
      "outputs": [
        {
          "output_type": "stream",
          "name": "stdout",
          "text": [
            "[[1 2 3]\n",
            " [4 5 6]]\n"
          ]
        }
      ]
    },
    {
      "cell_type": "markdown",
      "source": [
        "### Lectura de datos desde archivos de texto\n"
      ],
      "metadata": {
        "id": "QfuFhlF7VkBd"
      }
    },
    {
      "cell_type": "markdown",
      "source": [
        "NumPy proporciona la función `genfromtxt` que permite leer fácilmente datos desde archivos de texto (como archivos CSV, TSV, etc.)."
      ],
      "metadata": {
        "id": "QJa4LSIJVrv2"
      }
    },
    {
      "cell_type": "code",
      "source": [
        "data = np.genfromtxt('datos.csv', delimiter=',')"
      ],
      "metadata": {
        "id": "d-sLoEhyVmcy"
      },
      "execution_count": null,
      "outputs": []
    },
    {
      "cell_type": "markdown",
      "source": [
        "*   `genfromtxt` lee los datos del archivo especificado y los convierte en un array de NumPy.\n",
        "*   El argumento `delimiter` especifica el carácter delimitador utilizado en el archivo de texto (por ejemplo, coma `,` para archivos CSV)."
      ],
      "metadata": {
        "id": "ekUl3EBUVvxu"
      }
    },
    {
      "cell_type": "markdown",
      "source": [
        "**Opciones adicionales:**\n",
        "*   `skip_header`: Permite omitir un número específico de líneas al inicio del archivo (útil para archivos con encabezados).\n",
        "*  ` dtype`: Especifica el tipo de datos de los elementos del array resultante.\n",
        "*   `missing_values`: Indica cómo manejar los valores faltantes en el archivo.\n",
        "\n",
        "Esta función es muy útil para cargar datos desde archivos de texto en un formato compatible con NumPy, lo que facilita su posterior procesamiento y análisis"
      ],
      "metadata": {
        "id": "6AOoGEgrWPmJ"
      }
    },
    {
      "cell_type": "code",
      "source": [
        "data = np.genfromtxt('datos.csv', delimiter=',', skip_header=1, dtype=int)"
      ],
      "metadata": {
        "id": "p96LQLXcWD5R"
      },
      "execution_count": null,
      "outputs": []
    },
    {
      "cell_type": "markdown",
      "source": [
        "## Estadísticas y análisis de datos\n",
        "\n",
        "### Funciones estadísticas"
      ],
      "metadata": {
        "id": "F-DqU0-SNHbW"
      }
    },
    {
      "cell_type": "code",
      "source": [
        "arr = np.array([1, 2, 3, 4, 5])"
      ],
      "metadata": {
        "id": "8mNiQ943NPV1"
      },
      "execution_count": null,
      "outputs": []
    },
    {
      "cell_type": "code",
      "source": [
        "# Media\n",
        "mean = np.mean(arr)\n",
        "print(mean)"
      ],
      "metadata": {
        "colab": {
          "base_uri": "https://localhost:8080/"
        },
        "id": "ja5i2011Xckr",
        "outputId": "dd14bcf0-70df-489a-ee9c-3e8db6c1e504"
      },
      "execution_count": null,
      "outputs": [
        {
          "output_type": "stream",
          "name": "stdout",
          "text": [
            "3.0\n"
          ]
        }
      ]
    },
    {
      "cell_type": "code",
      "source": [
        "# Desviación estándar\n",
        "std = np.std(arr)\n",
        "print(std)"
      ],
      "metadata": {
        "colab": {
          "base_uri": "https://localhost:8080/"
        },
        "id": "1W1y0LsTXeuy",
        "outputId": "cce17936-da91-4421-efff-8b57ad73663d"
      },
      "execution_count": null,
      "outputs": [
        {
          "output_type": "stream",
          "name": "stdout",
          "text": [
            "1.4142135623730951\n"
          ]
        }
      ]
    },
    {
      "cell_type": "markdown",
      "source": [
        "### Ordenamiento y búsqueda\n"
      ],
      "metadata": {
        "id": "eadw1flyNWcm"
      }
    },
    {
      "cell_type": "code",
      "source": [
        "arr = np.array([5, 2, 7, 1, 8, 3])"
      ],
      "metadata": {
        "id": "mybuJLxkNhbN"
      },
      "execution_count": null,
      "outputs": []
    },
    {
      "cell_type": "code",
      "source": [
        "# Ordenar el arreglo\n",
        "sorted_arr = np.sort(arr)\n",
        "print(sorted_arr)"
      ],
      "metadata": {
        "colab": {
          "base_uri": "https://localhost:8080/"
        },
        "id": "H_4GKYfDXqka",
        "outputId": "7e26aac8-d8af-4fad-a33e-5947bc893bce"
      },
      "execution_count": null,
      "outputs": [
        {
          "output_type": "stream",
          "name": "stdout",
          "text": [
            "[1 2 3 5 7 8]\n"
          ]
        }
      ]
    },
    {
      "cell_type": "code",
      "source": [
        "# Buscar el índice de un valor específico\n",
        "index = np.searchsorted(sorted_arr, 7)\n",
        "print(index)"
      ],
      "metadata": {
        "colab": {
          "base_uri": "https://localhost:8080/"
        },
        "id": "qF4nri5zXs-0",
        "outputId": "73be6591-7027-48b2-8614-78d762464683"
      },
      "execution_count": null,
      "outputs": [
        {
          "output_type": "stream",
          "name": "stdout",
          "text": [
            "4\n"
          ]
        }
      ]
    },
    {
      "cell_type": "markdown",
      "source": [
        "### Operaciones con datos faltantes"
      ],
      "metadata": {
        "id": "C6d237Y2N5no"
      }
    },
    {
      "cell_type": "code",
      "source": [
        "arr = np.array([1, 2, np.nan, 4, 5])"
      ],
      "metadata": {
        "id": "WCG_k0rLN9W-"
      },
      "execution_count": null,
      "outputs": []
    },
    {
      "cell_type": "code",
      "source": [
        "# Detectar valores faltantes\n",
        "print(np.isnan(arr))"
      ],
      "metadata": {
        "colab": {
          "base_uri": "https://localhost:8080/"
        },
        "id": "2FUC08HvX0TM",
        "outputId": "47c13017-27f1-4f57-ce11-5ac671a7afbc"
      },
      "execution_count": null,
      "outputs": [
        {
          "output_type": "stream",
          "name": "stdout",
          "text": [
            "[False False  True False False]\n"
          ]
        }
      ]
    },
    {
      "cell_type": "code",
      "source": [
        "# Eliminar valores faltantes\n",
        "arr_cleaned = arr[~np.isnan(arr)]\n",
        "print(arr_cleaned)"
      ],
      "metadata": {
        "colab": {
          "base_uri": "https://localhost:8080/"
        },
        "id": "dwQr8XXzX2cD",
        "outputId": "75638a56-dcf6-416e-bbaa-62127e9364cd"
      },
      "execution_count": null,
      "outputs": [
        {
          "output_type": "stream",
          "name": "stdout",
          "text": [
            "[1. 2. 4. 5.]\n"
          ]
        }
      ]
    },
    {
      "cell_type": "markdown",
      "source": [
        "### Funciones de estadística"
      ],
      "metadata": {
        "id": "RKgeYrnJYKVE"
      }
    },
    {
      "cell_type": "code",
      "source": [
        "data = np.array([1, 2, 3, 4, 5])"
      ],
      "metadata": {
        "id": "PMjye_AdYOSp"
      },
      "execution_count": null,
      "outputs": []
    },
    {
      "cell_type": "code",
      "source": [
        "# Percentiles\n",
        "percentiles = np.percentile(data, [25, 50, 75])\n",
        "print(percentiles)  # [ 2.  3.  4.]"
      ],
      "metadata": {
        "colab": {
          "base_uri": "https://localhost:8080/"
        },
        "id": "rb9dki4kYTn8",
        "outputId": "5f516413-71ec-4891-c9e9-1df981a7ecd4"
      },
      "execution_count": null,
      "outputs": [
        {
          "output_type": "stream",
          "name": "stdout",
          "text": [
            "[2. 3. 4.]\n"
          ]
        }
      ]
    },
    {
      "cell_type": "code",
      "source": [
        "# Distribución normal\n",
        "from scipy.stats import norm\n",
        "mu, sigma = 0, 1  # media y desviación estándar\n",
        "x = np.linspace(-3, 3, 100)\n",
        "y = norm.pdf(x, mu, sigma)\n",
        "print(y)  # Densidad de probabilidad de la distribución normal"
      ],
      "metadata": {
        "colab": {
          "base_uri": "https://localhost:8080/"
        },
        "id": "k2mzmEgXYWKS",
        "outputId": "d0feeed4-be4a-4569-b94e-8eb65e1a3eb3"
      },
      "execution_count": null,
      "outputs": [
        {
          "output_type": "stream",
          "name": "stdout",
          "text": [
            "[0.00443185 0.00530579 0.00632878 0.00752133 0.00890582 0.0105065\n",
            " 0.01234943 0.01446241 0.01687483 0.01961746 0.02272223 0.02622189\n",
            " 0.03014961 0.03453857 0.03942137 0.0448295  0.05079264 0.05733801\n",
            " 0.06448952 0.07226707 0.08068571 0.08975477 0.09947714 0.10984842\n",
            " 0.12085626 0.13247967 0.14468855 0.15744319 0.17069405 0.18438164\n",
            " 0.1984366  0.21277993 0.22732351 0.24197072 0.2566174  0.27115285\n",
            " 0.28546117 0.29942268 0.31291556 0.3258175  0.33800759 0.34936814\n",
            " 0.35978656 0.36915722 0.37738323 0.38437808 0.3900672  0.39438923\n",
            " 0.39729716 0.39875915 0.39875915 0.39729716 0.39438923 0.3900672\n",
            " 0.38437808 0.37738323 0.36915722 0.35978656 0.34936814 0.33800759\n",
            " 0.3258175  0.31291556 0.29942268 0.28546117 0.27115285 0.2566174\n",
            " 0.24197072 0.22732351 0.21277993 0.1984366  0.18438164 0.17069405\n",
            " 0.15744319 0.14468855 0.13247967 0.12085626 0.10984842 0.09947714\n",
            " 0.08975477 0.08068571 0.07226707 0.06448952 0.05733801 0.05079264\n",
            " 0.0448295  0.03942137 0.03453857 0.03014961 0.02622189 0.02272223\n",
            " 0.01961746 0.01687483 0.01446241 0.01234943 0.0105065  0.00890582\n",
            " 0.00752133 0.00632878 0.00530579 0.00443185]\n"
          ]
        }
      ]
    },
    {
      "cell_type": "markdown",
      "source": [
        "## Funciones especiales\n",
        "### Funciones de procesamiento de señales"
      ],
      "metadata": {
        "id": "Bv8Ecp-qOV8M"
      }
    },
    {
      "cell_type": "code",
      "source": [
        "# Convolución de dos arreglos 1D\n",
        "data1 = np.array([1, 2, 3])\n",
        "data2 = np.array([4, 5])\n",
        "result = np.convolve(data1, data2, mode='full')\n",
        "print(result)  # [ 4 13 22 15  3]\n",
        "\n",
        "# Transformada de Fourier\n",
        "signal = np.array([1, 2, 3, 4])\n",
        "fourier_transform = np.fft.fft(signal)\n",
        "print(fourier_transform)\n",
        "# [ 10.00000000e+00 -1.08166817e-15 +2.22044605e-16j\n",
        "#    2.22044605e-16 +1.08166817e-15j]"
      ],
      "metadata": {
        "colab": {
          "base_uri": "https://localhost:8080/"
        },
        "id": "c7YyP3ZxOcNZ",
        "outputId": "1ce0deeb-d51c-4764-b817-54d639508e4b"
      },
      "execution_count": null,
      "outputs": [
        {
          "output_type": "stream",
          "name": "stdout",
          "text": [
            "[ 4 13 22 15]\n",
            "[10.+0.j -2.+2.j -2.+0.j -2.-2.j]\n"
          ]
        }
      ]
    },
    {
      "cell_type": "markdown",
      "source": [
        "### Funciones de álgebra lineal"
      ],
      "metadata": {
        "id": "YCxkhRXaPfUW"
      }
    },
    {
      "cell_type": "code",
      "source": [
        "mat = np.array([[1, 2], [3, 4]])\n",
        "\n",
        "# Calcular la matriz inversa\n",
        "inv_mat = np.linalg.inv(mat)\n",
        "print(inv_mat)\n",
        "# [[-2.   1. ]\n",
        "#  [ 1.5 -0.5]]\n",
        "\n",
        "# Resolver un sistema de ecuaciones lineales\n",
        "A = np.array([[1, 2], [3, 4]])\n",
        "b = np.array([5, 11])\n",
        "x = np.linalg.solve(A, b)\n",
        "print(x)  # [ 1. 2.]"
      ],
      "metadata": {
        "colab": {
          "base_uri": "https://localhost:8080/"
        },
        "id": "xfbO4u9oPiWm",
        "outputId": "c5e1438c-b345-4cf4-8371-83b02d35b748"
      },
      "execution_count": null,
      "outputs": [
        {
          "output_type": "stream",
          "name": "stdout",
          "text": [
            "[[-2.   1. ]\n",
            " [ 1.5 -0.5]]\n",
            "[1. 2.]\n"
          ]
        }
      ]
    },
    {
      "cell_type": "markdown",
      "source": [
        "### Funciones de estadística"
      ],
      "metadata": {
        "id": "IUGZzaVPRnJZ"
      }
    },
    {
      "cell_type": "code",
      "source": [
        "data = np.array([1, 2, 3, 4, 5])\n",
        "\n",
        "# Percentiles\n",
        "percentiles = np.percentile(data, [25, 50, 75])\n",
        "print(percentiles)\n",
        "\n",
        "# Distribución normal\n",
        "from scipy.stats import norm\n",
        "mu, sigma = 0, 1  # media y desviación estándar\n",
        "x = np.linspace(-3, 3, 100)\n",
        "y = norm.pdf(x, mu, sigma)\n",
        "print(y)  # Densidad de probabilidad de la distribución normal"
      ],
      "metadata": {
        "colab": {
          "base_uri": "https://localhost:8080/"
        },
        "id": "BlZweaChRk7Q",
        "outputId": "1864b91e-2632-4197-b972-fe0bc1783c44"
      },
      "execution_count": null,
      "outputs": [
        {
          "output_type": "stream",
          "name": "stdout",
          "text": [
            "[2. 3. 4.]\n",
            "[0.00443185 0.00530579 0.00632878 0.00752133 0.00890582 0.0105065\n",
            " 0.01234943 0.01446241 0.01687483 0.01961746 0.02272223 0.02622189\n",
            " 0.03014961 0.03453857 0.03942137 0.0448295  0.05079264 0.05733801\n",
            " 0.06448952 0.07226707 0.08068571 0.08975477 0.09947714 0.10984842\n",
            " 0.12085626 0.13247967 0.14468855 0.15744319 0.17069405 0.18438164\n",
            " 0.1984366  0.21277993 0.22732351 0.24197072 0.2566174  0.27115285\n",
            " 0.28546117 0.29942268 0.31291556 0.3258175  0.33800759 0.34936814\n",
            " 0.35978656 0.36915722 0.37738323 0.38437808 0.3900672  0.39438923\n",
            " 0.39729716 0.39875915 0.39875915 0.39729716 0.39438923 0.3900672\n",
            " 0.38437808 0.37738323 0.36915722 0.35978656 0.34936814 0.33800759\n",
            " 0.3258175  0.31291556 0.29942268 0.28546117 0.27115285 0.2566174\n",
            " 0.24197072 0.22732351 0.21277993 0.1984366  0.18438164 0.17069405\n",
            " 0.15744319 0.14468855 0.13247967 0.12085626 0.10984842 0.09947714\n",
            " 0.08975477 0.08068571 0.07226707 0.06448952 0.05733801 0.05079264\n",
            " 0.0448295  0.03942137 0.03453857 0.03014961 0.02622189 0.02272223\n",
            " 0.01961746 0.01687483 0.01446241 0.01234943 0.0105065  0.00890582\n",
            " 0.00752133 0.00632878 0.00530579 0.00443185]\n"
          ]
        }
      ]
    },
    {
      "cell_type": "markdown",
      "source": [
        "### Correlación entre dos arreglos"
      ],
      "metadata": {
        "id": "uTUtu-aVYg6B"
      }
    },
    {
      "cell_type": "code",
      "source": [
        "arr1 = np.array([1, 2, 3, 4, 5])\n",
        "arr2 = np.array([5, 4, 3, 2, 1])\n",
        "corr = np.corrcoef(arr1, arr2)\n",
        "print(corr)\n",
        "\n"
      ],
      "metadata": {
        "colab": {
          "base_uri": "https://localhost:8080/"
        },
        "id": "ma6btoqETrsr",
        "outputId": "2332f5d2-29fb-463c-8e4c-9b96724b5690"
      },
      "execution_count": null,
      "outputs": [
        {
          "output_type": "stream",
          "name": "stdout",
          "text": [
            "[[ 1. -1.]\n",
            " [-1.  1.]]\n"
          ]
        }
      ]
    },
    {
      "cell_type": "markdown",
      "source": [
        "### Covarianza entre dos arreglos\n"
      ],
      "metadata": {
        "id": "69dfYF7QYnBB"
      }
    },
    {
      "cell_type": "code",
      "source": [
        "cov = np.cov(arr1, arr2)\n",
        "print(cov)"
      ],
      "metadata": {
        "colab": {
          "base_uri": "https://localhost:8080/"
        },
        "id": "Sg8qcN6WYpen",
        "outputId": "735007c9-1861-4a84-d9e3-1db784f86e0f"
      },
      "execution_count": null,
      "outputs": [
        {
          "output_type": "stream",
          "name": "stdout",
          "text": [
            "[[ 2.5 -2.5]\n",
            " [-2.5  2.5]]\n"
          ]
        }
      ]
    },
    {
      "cell_type": "markdown",
      "source": [
        "## Copias de Arrays\n",
        "En NumPy, existen diferentes formas de crear copias de arrays, y es importante comprender la diferencia entre ellas.\n",
        "\n"
      ],
      "metadata": {
        "id": "QoMKBCiGY2yf"
      }
    },
    {
      "cell_type": "markdown",
      "source": [
        "### Vista (View)\n",
        "Una vista es una forma de acceder a los mismos datos del array original. Modificar la vista también modifica el array original.\n",
        "\n"
      ],
      "metadata": {
        "id": "8XX_MpXyY7Lt"
      }
    },
    {
      "cell_type": "code",
      "source": [
        "arr = np.array([1, 2, 3, 4])\n",
        "view_arr = arr.view()\n",
        "view_arr[0] = 9\n",
        "print(arr)\n"
      ],
      "metadata": {
        "colab": {
          "base_uri": "https://localhost:8080/"
        },
        "id": "mHgNOhfbY-1U",
        "outputId": "cc3ede15-ce4c-42e0-aae7-28035a152613"
      },
      "execution_count": null,
      "outputs": [
        {
          "output_type": "stream",
          "name": "stdout",
          "text": [
            "[9 2 3 4]\n"
          ]
        }
      ]
    },
    {
      "cell_type": "code",
      "source": [
        "print(view_arr)"
      ],
      "metadata": {
        "colab": {
          "base_uri": "https://localhost:8080/"
        },
        "id": "nyO2cGmuZMlw",
        "outputId": "f6292098-b67f-4b05-8399-108c95fb2bc8"
      },
      "execution_count": null,
      "outputs": [
        {
          "output_type": "stream",
          "name": "stdout",
          "text": [
            "[9 2 3 4]\n"
          ]
        }
      ]
    },
    {
      "cell_type": "markdown",
      "source": [
        "### Copia profunda (Deep Copy)\n",
        "Una copia profunda crea un nuevo array con una nueva ubicación de memoria, independiente del array original. Modificar la copia no afecta al array original."
      ],
      "metadata": {
        "id": "L40SrUn6ZVIc"
      }
    },
    {
      "cell_type": "code",
      "source": [
        "arr = np.array([1, 2, 3, 4])\n",
        "deep_copy_arr = arr.copy()\n",
        "deep_copy_arr[0] = 9\n",
        "print(arr)"
      ],
      "metadata": {
        "colab": {
          "base_uri": "https://localhost:8080/"
        },
        "id": "oP5v9oedZY5W",
        "outputId": "c55027df-6070-44d8-8409-a4f903216ecd"
      },
      "execution_count": null,
      "outputs": [
        {
          "output_type": "stream",
          "name": "stdout",
          "text": [
            "[1 2 3 4]\n"
          ]
        }
      ]
    },
    {
      "cell_type": "code",
      "source": [
        "print(deep_copy_arr)"
      ],
      "metadata": {
        "colab": {
          "base_uri": "https://localhost:8080/"
        },
        "id": "AaHfjqkxZcUe",
        "outputId": "ca3f4d3a-aefe-4630-9640-11a962728c1c"
      },
      "execution_count": null,
      "outputs": [
        {
          "output_type": "stream",
          "name": "stdout",
          "text": [
            "[9 2 3 4]\n"
          ]
        }
      ]
    },
    {
      "cell_type": "markdown",
      "source": [
        "### Copia superficial (Shallow Copy)\n",
        "Una copia superficial crea una nueva vista del array original, pero cualquier cambio en los elementos anidados (como matrices dentro de matrices) afectará tanto a la copia como al original."
      ],
      "metadata": {
        "id": "QJWR75tiZh62"
      }
    },
    {
      "cell_type": "code",
      "source": [
        "arr = np.array([[1, 2], [3, 4]])\n",
        "shallow_copy_arr = arr.view()\n",
        "shallow_copy_arr[0, 0] = 9\n",
        "print(arr)"
      ],
      "metadata": {
        "colab": {
          "base_uri": "https://localhost:8080/"
        },
        "id": "vXNec1gDZlm6",
        "outputId": "04099ab6-dcf1-4768-fcde-d44002b1c1ad"
      },
      "execution_count": null,
      "outputs": [
        {
          "output_type": "stream",
          "name": "stdout",
          "text": [
            "[[9 2]\n",
            " [3 4]]\n"
          ]
        }
      ]
    },
    {
      "cell_type": "code",
      "source": [
        "print(shallow_copy_arr)"
      ],
      "metadata": {
        "colab": {
          "base_uri": "https://localhost:8080/"
        },
        "id": "sigjym17ZpGU",
        "outputId": "7c97ab48-22cb-4202-d843-33311aedfbe1"
      },
      "execution_count": null,
      "outputs": [
        {
          "output_type": "stream",
          "name": "stdout",
          "text": [
            "[[9 2]\n",
            " [3 4]]\n"
          ]
        }
      ]
    },
    {
      "cell_type": "markdown",
      "source": [
        "## Descomposición en Valores Singulares (SVD)\n",
        "La descomposición en valores singulares (SVD, por sus siglas en inglés) es un método muy útil en álgebra lineal numérica. En NumPy, la función `numpy.linalg.svd` se utiliza para calcular la SVD de una matriz.\n",
        "\n",
        "\n",
        "La SVD tiene diversas aplicaciones en álgebra lineal numérica, como la resolución de sistemas de ecuaciones lineales, cálculo de pseudo-inversas, compresión de datos, entre otras.\n"
      ],
      "metadata": {
        "id": "ujp8wK6YZyxB"
      }
    },
    {
      "cell_type": "code",
      "source": [
        "# Crear una matriz\n",
        "A = np.array([[1, 2], [3, 4]])\n",
        "\n",
        "# Calcular la SVD\n",
        "U, s, Vh = np.linalg.svd(A)\n",
        "\n",
        "print(\"Matriz original:\")\n",
        "print(A)\n",
        "print(\"\\nMatrices de la descomposición SVD:\")\n",
        "print(\"U:\\n\", U)\n",
        "print(\"Valores singulares:\\n\", s)\n",
        "print(\"V^H:\\n\", Vh)"
      ],
      "metadata": {
        "colab": {
          "base_uri": "https://localhost:8080/"
        },
        "id": "R-HMbudgZ_Kw",
        "outputId": "5aeee0aa-6e7d-462d-8c75-4193c1587075"
      },
      "execution_count": null,
      "outputs": [
        {
          "output_type": "stream",
          "name": "stdout",
          "text": [
            "Matriz original:\n",
            "[[1 2]\n",
            " [3 4]]\n",
            "\n",
            "Matrices de la descomposición SVD:\n",
            "U:\n",
            " [[-0.40455358 -0.9145143 ]\n",
            " [-0.9145143   0.40455358]]\n",
            "Valores singulares:\n",
            " [5.4649857  0.36596619]\n",
            "V^H:\n",
            " [[-0.57604844 -0.81741556]\n",
            " [ 0.81741556 -0.57604844]]\n"
          ]
        }
      ]
    },
    {
      "cell_type": "markdown",
      "source": [
        "**Explicación:**\n",
        "\n",
        "\n",
        "*   La descomposición SVD de una matriz `A` se representa como: `A = U * np.diag(s) * Vh`, donde `U` y `Vh` son matrices ortogonales, y `s` contiene los valores singulares (escalares) de `A`.\n",
        "*   `U` y `Vh` son las matrices de vectores singulares izquierdos y derechos, respectivamente.\n",
        "*   `s` contiene los valores singulares de `A` ordenados de forma descendente.\n",
        "\n",
        "\n",
        "\n",
        "\n"
      ],
      "metadata": {
        "id": "-w_mbmACaG4Z"
      }
    },
    {
      "cell_type": "markdown",
      "source": [
        "## Funciones especiales\n",
        "\n"
      ],
      "metadata": {
        "id": "cuPnOpjGTEif"
      }
    },
    {
      "cell_type": "markdown",
      "source": [
        "### Funciones de procesamiento de señales\n"
      ],
      "metadata": {
        "id": "qYtRdOF9at5b"
      }
    },
    {
      "cell_type": "code",
      "source": [
        "# Convolución de dos arreglos 1D\n",
        "data1 = np.array([1, 2, 3])\n",
        "data2 = np.array([4, 5])\n",
        "result = np.convolve(data1, data2, mode='full')\n",
        "print(result)\n"
      ],
      "metadata": {
        "colab": {
          "base_uri": "https://localhost:8080/"
        },
        "id": "KqALHpC6bFlI",
        "outputId": "fb164fdd-6d63-4772-e5ef-77bd9b61078a"
      },
      "execution_count": null,
      "outputs": [
        {
          "output_type": "stream",
          "name": "stdout",
          "text": [
            "[ 4 13 22 15]\n"
          ]
        }
      ]
    },
    {
      "cell_type": "code",
      "source": [
        "# Transformada de Fourier\n",
        "signal = np.array([1, 2, 3, 4])\n",
        "fourier_transform = np.fft.fft(signal)\n",
        "print(fourier_transform)"
      ],
      "metadata": {
        "colab": {
          "base_uri": "https://localhost:8080/"
        },
        "id": "ZyXOia74azen",
        "outputId": "2b6ae281-7e6b-4695-95c2-bda2280a7647"
      },
      "execution_count": null,
      "outputs": [
        {
          "output_type": "stream",
          "name": "stdout",
          "text": [
            "[10.+0.j -2.+2.j -2.+0.j -2.-2.j]\n"
          ]
        }
      ]
    },
    {
      "cell_type": "markdown",
      "source": [
        "### Funciones de álgebra lineal"
      ],
      "metadata": {
        "id": "2-U-AlCNbLsV"
      }
    },
    {
      "cell_type": "code",
      "source": [
        "mat = np.array([[1, 2], [3, 4]])"
      ],
      "metadata": {
        "id": "5_xsfHcGbPyr"
      },
      "execution_count": null,
      "outputs": []
    },
    {
      "cell_type": "code",
      "source": [
        "# Calcular la matriz inversa\n",
        "inv_mat = np.linalg.inv(mat)\n",
        "print(inv_mat)"
      ],
      "metadata": {
        "colab": {
          "base_uri": "https://localhost:8080/"
        },
        "id": "q5YqaqIvbR13",
        "outputId": "02004fc3-287d-40e4-cbc6-c25b2d96e8e0"
      },
      "execution_count": null,
      "outputs": [
        {
          "output_type": "stream",
          "name": "stdout",
          "text": [
            "[[-2.   1. ]\n",
            " [ 1.5 -0.5]]\n"
          ]
        }
      ]
    },
    {
      "cell_type": "code",
      "source": [
        "# Resolver un sistema de ecuaciones lineales\n",
        "A = np.array([[1, 2], [3, 4]])\n",
        "b = np.array([5, 11])\n",
        "x = np.linalg.solve(A, b)\n",
        "print(x)"
      ],
      "metadata": {
        "colab": {
          "base_uri": "https://localhost:8080/"
        },
        "id": "bwo63xXGbVBp",
        "outputId": "df0e4316-4f05-4e16-8d44-837371eb41c9"
      },
      "execution_count": null,
      "outputs": [
        {
          "output_type": "stream",
          "name": "stdout",
          "text": [
            "[1. 2.]\n"
          ]
        }
      ]
    },
    {
      "cell_type": "markdown",
      "source": [
        "### Operaciones de máscara y compresión"
      ],
      "metadata": {
        "id": "XPV_cp_gbiMK"
      }
    },
    {
      "cell_type": "code",
      "source": [
        "arr = np.array([1, 2, 3, 4, 5])"
      ],
      "metadata": {
        "id": "We4X6FDbbj7k"
      },
      "execution_count": null,
      "outputs": []
    },
    {
      "cell_type": "code",
      "source": [
        "# Máscara\n",
        "mask = arr > 3\n",
        "print(arr[mask])"
      ],
      "metadata": {
        "colab": {
          "base_uri": "https://localhost:8080/"
        },
        "id": "nSFMzpndbnvw",
        "outputId": "1a74e857-01fa-44d1-bcee-263c004dcb61"
      },
      "execution_count": null,
      "outputs": [
        {
          "output_type": "stream",
          "name": "stdout",
          "text": [
            "[4 5]\n"
          ]
        }
      ]
    },
    {
      "cell_type": "code",
      "source": [
        "# Compresión\n",
        "compressed_arr = np.compress([True, False, True, True, False], arr)\n",
        "print(compressed_arr)"
      ],
      "metadata": {
        "colab": {
          "base_uri": "https://localhost:8080/"
        },
        "id": "xr8kYh0abpla",
        "outputId": "c76259af-e481-456b-f25c-b838ccf3e7e9"
      },
      "execution_count": null,
      "outputs": [
        {
          "output_type": "stream",
          "name": "stdout",
          "text": [
            "[1 3 4]\n"
          ]
        }
      ]
    }
  ],
  "metadata": {
    "colab": {
      "provenance": [],
      "toc_visible": true
    },
    "kernelspec": {
      "display_name": "Python 3",
      "name": "python3"
    }
  },
  "nbformat": 4,
  "nbformat_minor": 0
}